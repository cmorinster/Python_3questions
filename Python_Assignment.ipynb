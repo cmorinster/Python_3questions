{
 "cells": [
  {
   "cell_type": "code",
   "execution_count": 3,
   "id": "f0b7ff1f",
   "metadata": {},
   "outputs": [
    {
     "name": "stdout",
     "output_type": "stream",
     "text": [
      "[0, 1, 8, 27, 64, 125, 216, 343, 512, 729, 1000]\n"
     ]
    }
   ],
   "source": [
    "list_num = []\n",
    "x=0\n",
    "\n",
    "\n",
    "while True:\n",
    "    y= x*x*x\n",
    "    if y<= 1000:\n",
    "        list_num.append(y)\n",
    "    else:\n",
    "        break\n",
    "    x+=1\n",
    "    \n",
    "print(list_num)\n",
    "    "
   ]
  },
  {
   "cell_type": "code",
   "execution_count": 6,
   "id": "0fa26f23",
   "metadata": {},
   "outputs": [
    {
     "name": "stdout",
     "output_type": "stream",
     "text": [
      "[2, 3, 5, 7, 11, 13, 17, 19, 23, 29, 31, 37, 41, 43, 47, 53, 59, 61, 67, 71, 73, 79, 83, 89, 97]\n"
     ]
    }
   ],
   "source": [
    "list_num = [2]\n",
    "x=3\n",
    "\n",
    "while x<=100:\n",
    "    for number in list_num:\n",
    "        if x%number == 0:\n",
    "            break\n",
    "    else:\n",
    "        list_num.append(x)    \n",
    "    x+=1\n",
    "    \n",
    "print(list_num)\n",
    "\n",
    "        \n",
    "            \n",
    "            \n",
    "\n",
    "\n"
   ]
  },
  {
   "cell_type": "code",
   "execution_count": 15,
   "id": "16c6256b",
   "metadata": {},
   "outputs": [
    {
     "name": "stdout",
     "output_type": "stream",
     "text": [
      "Enter an age\n",
      "65\n",
      "adults\n"
     ]
    }
   ],
   "source": [
    "print(\"Enter an age\")\n",
    "age=input()\n",
    "age_num = int(age) \n",
    "if age_num<18:\n",
    "    print(\"kids\")\n",
    "elif age_num<=65:\n",
    "    print(\"adults\")\n",
    "else:\n",
    "    print(\"seniors\")"
   ]
  },
  {
   "cell_type": "code",
   "execution_count": null,
   "id": "9c3a6e39",
   "metadata": {},
   "outputs": [],
   "source": []
  },
  {
   "cell_type": "code",
   "execution_count": null,
   "id": "3f05159e",
   "metadata": {},
   "outputs": [],
   "source": []
  }
 ],
 "metadata": {
  "kernelspec": {
   "display_name": "Python 3 (ipykernel)",
   "language": "python",
   "name": "python3"
  },
  "language_info": {
   "codemirror_mode": {
    "name": "ipython",
    "version": 3
   },
   "file_extension": ".py",
   "mimetype": "text/x-python",
   "name": "python",
   "nbconvert_exporter": "python",
   "pygments_lexer": "ipython3",
   "version": "3.9.13"
  }
 },
 "nbformat": 4,
 "nbformat_minor": 5
}
